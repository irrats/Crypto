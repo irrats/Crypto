{
 "cells": [
  {
   "cell_type": "code",
   "execution_count": 5,
   "metadata": {},
   "outputs": [
    {
     "name": "stdout",
     "output_type": "stream",
     "text": [
      "Enter File Name ex: LTC.csv LCT.csv\n",
      "Enter Start date(yyyy/mm/dd): 2021/10/30\n",
      "Enter End date(yyyy/mm/dd) OR Press \"x\" to proceed with now-date: x\n",
      "Enter Timeframe to filter in Minutes. Ex: 1/5/15/60 60\n"
     ]
    }
   ],
   "source": [
    "            ########### Asks user to input file name, start/end date, timeframe and filters the csv out as per request. \n",
    "            ########### Saves to new csv\n",
    "import pandas as pd\n",
    "import numpy as np\n",
    "from datetime import datetime\n",
    "\n",
    "#function to validate the Start Date\n",
    "def GetStartDate():\n",
    "    isValid=False\n",
    "    while not isValid:\n",
    "        userIn = input('Enter Start date(yyyy/mm/dd): ')\n",
    "        try: # strptime throws an exception if the input doesn't match the pattern\n",
    "            sd = datetime.strptime(userIn, \"%Y/%m/%d\")\n",
    "            isValid=True\n",
    "        except:\n",
    "            print(\"Invalid date. Try again in format: yyyy/mm/dd\")\n",
    "    return sd\n",
    "\n",
    "\n",
    "# function to insert the End Date or leave current date\n",
    "def GetEndDate():\n",
    "\n",
    "    userIn = str(input('Enter End date(yyyy/mm/dd) OR Press \"x\" to proceed with now-date: '))\n",
    "    if userIn ==str('x'): # strptime throws an exception if the input doesn't match the pattern\n",
    "        ed = datetime.now()\n",
    "    else:\n",
    "        ed = datetime.strptime(userIn, \"%Y/%m/%d\")     \n",
    "    return ed\n",
    "\n",
    "#Input variables\n",
    "file = str(input('Enter File Name ex: LTC.csv '))\n",
    "start_date = GetStartDate() #validates date input\n",
    "end_date = GetEndDate()  #returns either custom date or now\n",
    "time_frame = str(input('Enter Timeframe to filter in Minutes. Ex: 1/5/15/60 '))\n",
    "\n",
    "\n",
    "df = pd.read_csv(file, dtype=str, skiprows=1)    #skips first row in csv which has hyperlink\n",
    "df['unix'] = pd.to_datetime(df['unix'], unit='ms')\n",
    "df['date'] = pd.to_datetime(df['date']) \n",
    "\n",
    "#filtering between 2 dates\n",
    "after_start_date = df[\"date\"] >= start_date\n",
    "before_end_date = df[\"date\"] <= end_date\n",
    "between_two_dates = after_start_date & before_end_date\n",
    "filtered_dates = df.loc[between_two_dates]\n",
    "\n",
    "#set timeframe as per input n mins\n",
    "df = (df.set_index('unix')\n",
    "        .resample(time_frame + 'T').first() #5T = 5min, 1T - 1min\n",
    "        .reset_index()\n",
    "       .reindex(columns=df.columns))\n",
    "df['unix'] = df['unix'].astype(np.int64) // 10**9\n",
    "\n",
    "sym = df['symbol'][3]\n",
    "symbol = sym.replace('/', '_')\n",
    "str_start = start_date.strftime(\"%Y%m%d\")\n",
    "str_end = end_date.strftime(\"%Y%m%d\")\n",
    "\n",
    "df.to_csv(symbol + time_frame + '_'+ str_start + str_end +'.csv')\n",
    "# print(my_date)\n",
    "# print(end_date)"
   ]
  },
  {
   "cell_type": "code",
   "execution_count": 1,
   "metadata": {},
   "outputs": [
    {
     "name": "stdout",
     "output_type": "stream",
     "text": [
      "         unix                 date    symbol open high  low close Volume ETH  \\\n",
      "0  1574840700  2019-11-27 07:45:00  ETH/USDT  146  146  146   146      0.010   \n",
      "1  1574841000  2019-11-27 07:50:00  ETH/USDT  146  146  146   146          0   \n",
      "2  1574841300  2019-11-27 07:55:00  ETH/USDT  146  146  146   146          0   \n",
      "3  1574841600  2019-11-27 08:00:00  ETH/USDT  146  146  146   146          0   \n",
      "4  1574841900  2019-11-27 08:05:00  ETH/USDT  146  146  146   146          0   \n",
      "\n",
      "  Volume USDT tradecount  \n",
      "0     1.46000          1  \n",
      "1           0          0  \n",
      "2           0          0  \n",
      "3           0          0  \n",
      "4           0          0  \n"
     ]
    }
   ],
   "source": [
    "              ################ Backtest: Rearrange raw data from 1 min to 5 min\n",
    "\n",
    "import pandas as pd\n",
    "import numpy as np\n",
    "import os\n",
    "file = 'ETH.csv'\n",
    "df = pd.read_csv(file, dtype=str)\n",
    "\n",
    "df['unix'] = pd.to_datetime(df['unix'], unit='ms')\n",
    "\n",
    "df = (df.set_index('unix')\n",
    "        .resample('5T').first() #5T = 5min, 1T - 1min\n",
    "        .reset_index()\n",
    "       .reindex(columns=df.columns))\n",
    "df['unix'] = df['unix'].astype(np.int64) // 10**9\n",
    "print (df.head())\n",
    "df.to_csv('ETH_5min.csv')"
   ]
  },
  {
   "cell_type": "code",
   "execution_count": null,
   "metadata": {},
   "outputs": [],
   "source": []
  }
 ],
 "metadata": {
  "kernelspec": {
   "display_name": "Python 3",
   "language": "python",
   "name": "python3"
  },
  "language_info": {
   "codemirror_mode": {
    "name": "ipython",
    "version": 3
   },
   "file_extension": ".py",
   "mimetype": "text/x-python",
   "name": "python",
   "nbconvert_exporter": "python",
   "pygments_lexer": "ipython3",
   "version": "3.8.5"
  }
 },
 "nbformat": 4,
 "nbformat_minor": 4
}
