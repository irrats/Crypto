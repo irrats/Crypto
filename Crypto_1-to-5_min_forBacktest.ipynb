{
 "cells": [
  {
   "cell_type": "code",
   "execution_count": 3,
   "metadata": {},
   "outputs": [],
   "source": [
    "              ################ Backtest: Rearrange raw data from 1 min to 5 min\n",
    "\n",
    "import pandas as pd\n",
    "import numpy as np\n",
    "import os\n",
    "file = 'ETH.csv'\n",
    "#create df\n",
    "df = pd.read_csv(file, dtype=str, parse_dates=['date'])\n",
    "\n",
    "#set index to date and resample to needed numer of minutes (1T = 1 minute)\n",
    "df = df.set_index('date').resample('5T').agg({'open': 'first', 'high':'max', 'low':'min', 'close': 'last', 'Volume ETH': 'sum', 'Volume USDT': 'sum','tradecount':'sum'})\n",
    "\n",
    "#print (df.head())\n",
    "#df.to_csv('ETH_5min.csv')"
   ]
  },
  {
   "cell_type": "code",
   "execution_count": null,
   "metadata": {},
   "outputs": [],
   "source": []
  },
  {
   "cell_type": "code",
   "execution_count": null,
   "metadata": {},
   "outputs": [],
   "source": []
  }
 ],
 "metadata": {
  "kernelspec": {
   "display_name": "Python 3",
   "language": "python",
   "name": "python3"
  },
  "language_info": {
   "codemirror_mode": {
    "name": "ipython",
    "version": 3
   },
   "file_extension": ".py",
   "mimetype": "text/x-python",
   "name": "python",
   "nbconvert_exporter": "python",
   "pygments_lexer": "ipython3",
   "version": "3.8.5"
  }
 },
 "nbformat": 4,
 "nbformat_minor": 4
}
