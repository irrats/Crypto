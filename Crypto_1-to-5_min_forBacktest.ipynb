{
 "cells": [
  {
   "cell_type": "code",
   "execution_count": 1,
   "metadata": {},
   "outputs": [
    {
     "name": "stdout",
     "output_type": "stream",
     "text": [
      "         unix                 date    symbol open high  low close Volume ETH  \\\n",
      "0  1574840700  2019-11-27 07:45:00  ETH/USDT  146  146  146   146      0.010   \n",
      "1  1574841000  2019-11-27 07:50:00  ETH/USDT  146  146  146   146          0   \n",
      "2  1574841300  2019-11-27 07:55:00  ETH/USDT  146  146  146   146          0   \n",
      "3  1574841600  2019-11-27 08:00:00  ETH/USDT  146  146  146   146          0   \n",
      "4  1574841900  2019-11-27 08:05:00  ETH/USDT  146  146  146   146          0   \n",
      "\n",
      "  Volume USDT tradecount  \n",
      "0     1.46000          1  \n",
      "1           0          0  \n",
      "2           0          0  \n",
      "3           0          0  \n",
      "4           0          0  \n"
     ]
    }
   ],
   "source": [
    "              ################ Backtest: Rearrange raw data from 1 min to 5 min\n",
    "\n",
    "import pandas as pd\n",
    "import numpy as np\n",
    "import os\n",
    "file = 'ETH.csv'\n",
    "df = pd.read_csv(file, dtype=str)\n",
    "\n",
    "df['unix'] = pd.to_datetime(df['unix'], unit='ms')\n",
    "\n",
    "df = (df.set_index('unix')\n",
    "        .resample('5T').first() #5T = 5min, 1T - 1min\n",
    "        .reset_index()\n",
    "       .reindex(columns=df.columns))\n",
    "df['unix'] = df['unix'].astype(np.int64) // 10**9\n",
    "print (df.head())\n",
    "df.to_csv('ETH_5min.csv')"
   ]
  },
  {
   "cell_type": "code",
   "execution_count": null,
   "metadata": {},
   "outputs": [],
   "source": []
  },
  {
   "cell_type": "code",
   "execution_count": null,
   "metadata": {},
   "outputs": [],
   "source": []
  },
  {
   "cell_type": "code",
   "execution_count": null,
   "metadata": {},
   "outputs": [],
   "source": []
  },
  {
   "cell_type": "code",
   "execution_count": 5,
   "metadata": {},
   "outputs": [],
   "source": []
  },
  {
   "cell_type": "code",
   "execution_count": null,
   "metadata": {},
   "outputs": [],
   "source": []
  },
  {
   "cell_type": "code",
   "execution_count": 7,
   "metadata": {},
   "outputs": [],
   "source": []
  },
  {
   "cell_type": "code",
   "execution_count": null,
   "metadata": {},
   "outputs": [],
   "source": []
  },
  {
   "cell_type": "code",
   "execution_count": null,
   "metadata": {},
   "outputs": [],
   "source": []
  },
  {
   "cell_type": "code",
   "execution_count": null,
   "metadata": {},
   "outputs": [],
   "source": [
    "\n"
   ]
  },
  {
   "cell_type": "code",
   "execution_count": null,
   "metadata": {},
   "outputs": [],
   "source": []
  }
 ],
 "metadata": {
  "kernelspec": {
   "display_name": "Python 3",
   "language": "python",
   "name": "python3"
  },
  "language_info": {
   "codemirror_mode": {
    "name": "ipython",
    "version": 3
   },
   "file_extension": ".py",
   "mimetype": "text/x-python",
   "name": "python",
   "nbconvert_exporter": "python",
   "pygments_lexer": "ipython3",
   "version": "3.8.5"
  }
 },
 "nbformat": 4,
 "nbformat_minor": 4
}
